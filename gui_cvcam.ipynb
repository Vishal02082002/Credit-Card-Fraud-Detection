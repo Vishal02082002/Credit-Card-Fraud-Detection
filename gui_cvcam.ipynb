{
 "cells": [
  {
   "cell_type": "code",
   "execution_count": 22,
   "id": "52d3b4a6",
   "metadata": {},
   "outputs": [
    {
     "name": "stdout",
     "output_type": "stream",
     "text": [
      "Requirement already satisfied: opencv-python in c:\\users\\prans\\anaconda3\\lib\\site-packages (4.6.0.66)\n",
      "Requirement already satisfied: numpy>=1.14.5 in c:\\users\\prans\\anaconda3\\lib\\site-packages (from opencv-python) (1.21.5)\n",
      "Note: you may need to restart the kernel to use updated packages.\n"
     ]
    }
   ],
   "source": [
    "pip install opencv-python"
   ]
  },
  {
   "cell_type": "code",
   "execution_count": 11,
   "id": "02dbcf2d",
   "metadata": {},
   "outputs": [],
   "source": [
    "import tkinter\n",
    "import cv2\n",
    "import PIL.Image, PIL.ImageTk\n",
    "import time\n"
   ]
  },
  {
   "cell_type": "code",
   "execution_count": 12,
   "id": "5d080488",
   "metadata": {},
   "outputs": [],
   "source": [
    "class App:\n",
    "    def __init__(self, window, window_title, video_source=0):\n",
    "        self.window = window\n",
    "        self.window.title(window_title)\n",
    "        self.video_source = video_source\n",
    "        # open video source (by default this will try to open the computer webcam)\n",
    "        self.vid = MyVideoCapture(self.video_source)\n",
    "        # Create a canvas that can fit the above video source size\n",
    "        self.canvas = tkinter.Canvas(window, width=self.vid.width, height=self.vid.height)\n",
    "        self.canvas.pack()\n",
    "        # Button that lets the user take a snapshot\n",
    "        self.btn_snapshot = tkinter.Button(window, text=\"Snapshot\", width=50,command=self.snapshot)\n",
    "        self.btn_snapshot.pack(anchor=tkinter.CENTER, expand=True)\n",
    "        # After it is called once, the update method will be automatically called every delay milliseconds\n",
    "        self.delay = 15\n",
    "        self.update()\n",
    "        self.window.mainloop()\n",
    "\n",
    "\n",
    "    def snapshot(self):\n",
    "        # Get a frame from the video source\n",
    "        ret, frame = self.vid.get_frame()\n",
    "        # Id = input(\"ENTER NAME\")\n",
    "        if ret:\n",
    "            cv2.imwrite(\"dataset/ref\" + \".jpg\", cv2.cvtColor(frame, cv2.COLOR_RGB2BGR))\n",
    "\n",
    "        self.window.destroy()\n",
    "\n",
    "\n",
    "    def update(self):\n",
    "        # Get a frame from the video source\n",
    "        ret, frame = self.vid.get_frame()\n",
    "        if ret:\n",
    "            self.photo = PIL.ImageTk.PhotoImage(image=PIL.Image.fromarray(frame))\n",
    "            self.canvas.create_image(0, 0, image=self.photo, anchor=tkinter.NW)\n",
    "        self.window.after(self.delay, self.update)\n"
   ]
  },
  {
   "cell_type": "code",
   "execution_count": 13,
   "id": "ca1b67cb",
   "metadata": {},
   "outputs": [],
   "source": [
    "class MyVideoCapture:\n",
    "    def __init__(self, video_source=0):\n",
    "        # Open the video source\n",
    "        self.vid = cv2.VideoCapture(video_source)\n",
    "        if not self.vid.isOpened():\n",
    "            raise ValueError(\"Unable to open video source\", video_source)\n",
    "        # Get video source width and height\n",
    "        self.width = self.vid.get(cv2.CAP_PROP_FRAME_WIDTH)\n",
    "        self.height = self.vid.get(cv2.CAP_PROP_FRAME_HEIGHT)\n",
    "    def get_frame(self):\n",
    "        if self.vid.isOpened():\n",
    "            ret, frame = self.vid.read()\n",
    "            if ret:\n",
    "                # Return a boolean success flag and the current frame converted to BGR\n",
    "                return (ret, cv2.cvtColor(frame, cv2.COLOR_BGR2RGB))\n",
    "            else:\n",
    "                return (ret, None)\n",
    "        else:\n",
    "            return (ret, None)\n",
    "# Release the video source when the object is destroyed\n",
    "    def __del__(self):\n",
    "        if self.vid.isOpened():\n",
    "            self.vid.release()\n"
   ]
  },
  {
   "cell_type": "code",
   "execution_count": 14,
   "id": "997b480f",
   "metadata": {},
   "outputs": [],
   "source": [
    "def run():\n",
    "    App(tkinter.Tk(), \"Tkinter and OpenCV\")"
   ]
  },
  {
   "cell_type": "code",
   "execution_count": 15,
   "id": "a3b4ee56",
   "metadata": {},
   "outputs": [],
   "source": [
    "run()"
   ]
  },
  {
   "cell_type": "code",
   "execution_count": null,
   "id": "7095a07a",
   "metadata": {},
   "outputs": [],
   "source": []
  }
 ],
 "metadata": {
  "kernelspec": {
   "display_name": "Python 3 (ipykernel)",
   "language": "python",
   "name": "python3"
  },
  "language_info": {
   "codemirror_mode": {
    "name": "ipython",
    "version": 3
   },
   "file_extension": ".py",
   "mimetype": "text/x-python",
   "name": "python",
   "nbconvert_exporter": "python",
   "pygments_lexer": "ipython3",
   "version": "3.9.13"
  }
 },
 "nbformat": 4,
 "nbformat_minor": 5
}
